{
 "cells": [
  {
   "cell_type": "code",
   "execution_count": 2,
   "id": "eb438a99",
   "metadata": {},
   "outputs": [],
   "source": [
    "import pandas as pd\n",
    "import dataframe_image as dfi\n",
    "\n",
    "import numpy as np\n",
    "\n",
    "import scipy.optimize as opt\n",
    "\n",
    "import matplotlib.pyplot as plt"
   ]
  },
  {
   "cell_type": "code",
   "execution_count": 3,
   "id": "98648b67",
   "metadata": {},
   "outputs": [
    {
     "data": {
      "text/html": [
       "<div>\n",
       "<style scoped>\n",
       "    .dataframe tbody tr th:only-of-type {\n",
       "        vertical-align: middle;\n",
       "    }\n",
       "\n",
       "    .dataframe tbody tr th {\n",
       "        vertical-align: top;\n",
       "    }\n",
       "\n",
       "    .dataframe thead th {\n",
       "        text-align: right;\n",
       "    }\n",
       "</style>\n",
       "<table border=\"1\" class=\"dataframe\">\n",
       "  <thead>\n",
       "    <tr style=\"text-align: right;\">\n",
       "      <th></th>\n",
       "      <th>Pixel</th>\n",
       "      <th>1.000000E+0</th>\n",
       "      <th>2.000000E+0</th>\n",
       "      <th>3.000000E+0</th>\n",
       "      <th>Pixel.1</th>\n",
       "      <th>1.000000E+0.1</th>\n",
       "      <th>2.000000E+0.1</th>\n",
       "      <th>3.000000E+0\\r</th>\n",
       "    </tr>\n",
       "  </thead>\n",
       "  <tbody>\n",
       "    <tr>\n",
       "      <th>0</th>\n",
       "      <td>Area (cm2)</td>\n",
       "      <td>0.064600</td>\n",
       "      <td>0.064600</td>\n",
       "      <td>0.064600</td>\n",
       "      <td>Area (cm2)</td>\n",
       "      <td>0.064600</td>\n",
       "      <td>0.064600</td>\n",
       "      <td>0.064600</td>\n",
       "    </tr>\n",
       "    <tr>\n",
       "      <th>1</th>\n",
       "      <td>Efficiency (%)</td>\n",
       "      <td>9.151790</td>\n",
       "      <td>9.355109</td>\n",
       "      <td>8.871294</td>\n",
       "      <td>Efficiency (%)</td>\n",
       "      <td>9.151790</td>\n",
       "      <td>9.355109</td>\n",
       "      <td>8.871294</td>\n",
       "    </tr>\n",
       "    <tr>\n",
       "      <th>2</th>\n",
       "      <td>JSC (mA/cm2)</td>\n",
       "      <td>18.686320</td>\n",
       "      <td>17.791890</td>\n",
       "      <td>16.817960</td>\n",
       "      <td>ISC (A)</td>\n",
       "      <td>0.001207</td>\n",
       "      <td>0.001149</td>\n",
       "      <td>0.001086</td>\n",
       "    </tr>\n",
       "    <tr>\n",
       "      <th>3</th>\n",
       "      <td>VOC (V)</td>\n",
       "      <td>0.940674</td>\n",
       "      <td>0.974644</td>\n",
       "      <td>0.961021</td>\n",
       "      <td>VOC (V)</td>\n",
       "      <td>0.940674</td>\n",
       "      <td>0.974644</td>\n",
       "      <td>0.961021</td>\n",
       "    </tr>\n",
       "    <tr>\n",
       "      <th>4</th>\n",
       "      <td>FF</td>\n",
       "      <td>52.064650</td>\n",
       "      <td>53.948680</td>\n",
       "      <td>54.888460</td>\n",
       "      <td>FF</td>\n",
       "      <td>52.064650</td>\n",
       "      <td>53.948680</td>\n",
       "      <td>54.888460</td>\n",
       "    </tr>\n",
       "    <tr>\n",
       "      <th>5</th>\n",
       "      <td>RP (Ohm cm2)</td>\n",
       "      <td>863.174800</td>\n",
       "      <td>863.405500</td>\n",
       "      <td>1225.341000</td>\n",
       "      <td>RP (Ohm)</td>\n",
       "      <td>13361.840000</td>\n",
       "      <td>13365.410000</td>\n",
       "      <td>18968.130000</td>\n",
       "    </tr>\n",
       "    <tr>\n",
       "      <th>6</th>\n",
       "      <td>RS @ Vmax (Ohm cm2)</td>\n",
       "      <td>1.889227</td>\n",
       "      <td>1.801822</td>\n",
       "      <td>1.763707</td>\n",
       "      <td>RS @ Vmax (Ohm)</td>\n",
       "      <td>29.245000</td>\n",
       "      <td>27.891980</td>\n",
       "      <td>27.301970</td>\n",
       "    </tr>\n",
       "    <tr>\n",
       "      <th>7</th>\n",
       "      <td>RS @ VOC (Ohm cm2)</td>\n",
       "      <td>12.880840</td>\n",
       "      <td>8.488877</td>\n",
       "      <td>9.662576</td>\n",
       "      <td>RS @ VOC (Ohm)</td>\n",
       "      <td>199.393800</td>\n",
       "      <td>131.406800</td>\n",
       "      <td>149.575500</td>\n",
       "    </tr>\n",
       "    <tr>\n",
       "      <th>8</th>\n",
       "      <td>RLOAD (Ohm cm2)</td>\n",
       "      <td>39.336570</td>\n",
       "      <td>45.162490</td>\n",
       "      <td>47.625520</td>\n",
       "      <td>RLOAD (Ohm)</td>\n",
       "      <td>608.925200</td>\n",
       "      <td>699.109700</td>\n",
       "      <td>737.237200</td>\n",
       "    </tr>\n",
       "    <tr>\n",
       "      <th>9</th>\n",
       "      <td>0.000000E+0</td>\n",
       "      <td>0.000000</td>\n",
       "      <td>0.000000</td>\n",
       "      <td>0.000000</td>\n",
       "      <td>0.000000E+0</td>\n",
       "      <td>0.000000</td>\n",
       "      <td>0.000000</td>\n",
       "      <td>0.000000</td>\n",
       "    </tr>\n",
       "    <tr>\n",
       "      <th>10</th>\n",
       "      <td>-5.000000E-1</td>\n",
       "      <td>-19.782850</td>\n",
       "      <td>-18.600340</td>\n",
       "      <td>-17.549350</td>\n",
       "      <td>-5.000000E-1</td>\n",
       "      <td>-0.001278</td>\n",
       "      <td>-0.001202</td>\n",
       "      <td>-0.001134</td>\n",
       "    </tr>\n",
       "    <tr>\n",
       "      <th>11</th>\n",
       "      <td>-4.500000E-1</td>\n",
       "      <td>-19.423760</td>\n",
       "      <td>-18.337740</td>\n",
       "      <td>-17.324980</td>\n",
       "      <td>-4.500000E-1</td>\n",
       "      <td>-0.001255</td>\n",
       "      <td>-0.001185</td>\n",
       "      <td>-0.001119</td>\n",
       "    </tr>\n",
       "    <tr>\n",
       "      <th>12</th>\n",
       "      <td>-4.000000E-1</td>\n",
       "      <td>-19.290820</td>\n",
       "      <td>-18.225760</td>\n",
       "      <td>-17.226800</td>\n",
       "      <td>-4.000000E-1</td>\n",
       "      <td>-0.001246</td>\n",
       "      <td>-0.001177</td>\n",
       "      <td>-0.001113</td>\n",
       "    </tr>\n",
       "    <tr>\n",
       "      <th>13</th>\n",
       "      <td>-3.500000E-1</td>\n",
       "      <td>-19.181250</td>\n",
       "      <td>-18.170050</td>\n",
       "      <td>-17.167030</td>\n",
       "      <td>-3.500000E-1</td>\n",
       "      <td>-0.001239</td>\n",
       "      <td>-0.001174</td>\n",
       "      <td>-0.001109</td>\n",
       "    </tr>\n",
       "    <tr>\n",
       "      <th>14</th>\n",
       "      <td>-3.000000E-1</td>\n",
       "      <td>-19.103750</td>\n",
       "      <td>-18.101130</td>\n",
       "      <td>-17.106010</td>\n",
       "      <td>-3.000000E-1</td>\n",
       "      <td>-0.001234</td>\n",
       "      <td>-0.001169</td>\n",
       "      <td>-0.001105</td>\n",
       "    </tr>\n",
       "  </tbody>\n",
       "</table>\n",
       "</div>"
      ],
      "text/plain": [
       "                  Pixel  1.000000E+0  2.000000E+0  3.000000E+0  \\\n",
       "0            Area (cm2)     0.064600     0.064600     0.064600   \n",
       "1        Efficiency (%)     9.151790     9.355109     8.871294   \n",
       "2          JSC (mA/cm2)    18.686320    17.791890    16.817960   \n",
       "3               VOC (V)     0.940674     0.974644     0.961021   \n",
       "4                    FF    52.064650    53.948680    54.888460   \n",
       "5          RP (Ohm cm2)   863.174800   863.405500  1225.341000   \n",
       "6   RS @ Vmax (Ohm cm2)     1.889227     1.801822     1.763707   \n",
       "7    RS @ VOC (Ohm cm2)    12.880840     8.488877     9.662576   \n",
       "8       RLOAD (Ohm cm2)    39.336570    45.162490    47.625520   \n",
       "9           0.000000E+0     0.000000     0.000000     0.000000   \n",
       "10         -5.000000E-1   -19.782850   -18.600340   -17.549350   \n",
       "11         -4.500000E-1   -19.423760   -18.337740   -17.324980   \n",
       "12         -4.000000E-1   -19.290820   -18.225760   -17.226800   \n",
       "13         -3.500000E-1   -19.181250   -18.170050   -17.167030   \n",
       "14         -3.000000E-1   -19.103750   -18.101130   -17.106010   \n",
       "\n",
       "            Pixel.1  1.000000E+0.1  2.000000E+0.1  3.000000E+0\\r  \n",
       "0        Area (cm2)       0.064600       0.064600       0.064600  \n",
       "1    Efficiency (%)       9.151790       9.355109       8.871294  \n",
       "2           ISC (A)       0.001207       0.001149       0.001086  \n",
       "3           VOC (V)       0.940674       0.974644       0.961021  \n",
       "4                FF      52.064650      53.948680      54.888460  \n",
       "5          RP (Ohm)   13361.840000   13365.410000   18968.130000  \n",
       "6   RS @ Vmax (Ohm)      29.245000      27.891980      27.301970  \n",
       "7    RS @ VOC (Ohm)     199.393800     131.406800     149.575500  \n",
       "8       RLOAD (Ohm)     608.925200     699.109700     737.237200  \n",
       "9       0.000000E+0       0.000000       0.000000       0.000000  \n",
       "10     -5.000000E-1      -0.001278      -0.001202      -0.001134  \n",
       "11     -4.500000E-1      -0.001255      -0.001185      -0.001119  \n",
       "12     -4.000000E-1      -0.001246      -0.001177      -0.001113  \n",
       "13     -3.500000E-1      -0.001239      -0.001174      -0.001109  \n",
       "14     -3.000000E-1      -0.001234      -0.001169      -0.001105  "
      ]
     },
     "execution_count": 3,
     "metadata": {},
     "output_type": "execute_result"
    }
   ],
   "source": [
    "path = %pwd\n",
    "corrected_path = path.replace('\\\\', '/')\n",
    "\n",
    "data = pd.read_table(corrected_path+'/data/example.txt', delimiter='\\t', lineterminator='\\n')\n",
    "data.head(15)"
   ]
  },
  {
   "cell_type": "code",
   "execution_count": 4,
   "id": "d6918b56",
   "metadata": {},
   "outputs": [
    {
     "data": {
      "text/html": [
       "<div>\n",
       "<style scoped>\n",
       "    .dataframe tbody tr th:only-of-type {\n",
       "        vertical-align: middle;\n",
       "    }\n",
       "\n",
       "    .dataframe tbody tr th {\n",
       "        vertical-align: top;\n",
       "    }\n",
       "\n",
       "    .dataframe thead th {\n",
       "        text-align: right;\n",
       "    }\n",
       "</style>\n",
       "<table border=\"1\" class=\"dataframe\">\n",
       "  <thead>\n",
       "    <tr style=\"text-align: right;\">\n",
       "      <th></th>\n",
       "      <th>Pixel</th>\n",
       "      <th>1</th>\n",
       "      <th>2</th>\n",
       "      <th>3</th>\n",
       "      <th>Pixel.1</th>\n",
       "      <th>1.1</th>\n",
       "      <th>2.1</th>\n",
       "      <th>3.1</th>\n",
       "    </tr>\n",
       "  </thead>\n",
       "  <tbody>\n",
       "    <tr>\n",
       "      <th>0</th>\n",
       "      <td>Area (cm2)</td>\n",
       "      <td>0.064600</td>\n",
       "      <td>0.064600</td>\n",
       "      <td>0.064600</td>\n",
       "      <td>Area (cm2)</td>\n",
       "      <td>0.064600</td>\n",
       "      <td>0.064600</td>\n",
       "      <td>0.064600</td>\n",
       "    </tr>\n",
       "    <tr>\n",
       "      <th>1</th>\n",
       "      <td>Efficiency (%)</td>\n",
       "      <td>9.151790</td>\n",
       "      <td>9.355109</td>\n",
       "      <td>8.871294</td>\n",
       "      <td>Efficiency (%)</td>\n",
       "      <td>9.151790</td>\n",
       "      <td>9.355109</td>\n",
       "      <td>8.871294</td>\n",
       "    </tr>\n",
       "    <tr>\n",
       "      <th>2</th>\n",
       "      <td>JSC (mA/cm2)</td>\n",
       "      <td>18.686320</td>\n",
       "      <td>17.791890</td>\n",
       "      <td>16.817960</td>\n",
       "      <td>ISC (A)</td>\n",
       "      <td>0.001207</td>\n",
       "      <td>0.001149</td>\n",
       "      <td>0.001086</td>\n",
       "    </tr>\n",
       "    <tr>\n",
       "      <th>3</th>\n",
       "      <td>VOC (V)</td>\n",
       "      <td>0.940674</td>\n",
       "      <td>0.974644</td>\n",
       "      <td>0.961021</td>\n",
       "      <td>VOC (V)</td>\n",
       "      <td>0.940674</td>\n",
       "      <td>0.974644</td>\n",
       "      <td>0.961021</td>\n",
       "    </tr>\n",
       "    <tr>\n",
       "      <th>4</th>\n",
       "      <td>FF</td>\n",
       "      <td>52.064650</td>\n",
       "      <td>53.948680</td>\n",
       "      <td>54.888460</td>\n",
       "      <td>FF</td>\n",
       "      <td>52.064650</td>\n",
       "      <td>53.948680</td>\n",
       "      <td>54.888460</td>\n",
       "    </tr>\n",
       "  </tbody>\n",
       "</table>\n",
       "</div>"
      ],
      "text/plain": [
       "            Pixel          1          2          3         Pixel.1        1.1  \\\n",
       "0      Area (cm2)   0.064600   0.064600   0.064600      Area (cm2)   0.064600   \n",
       "1  Efficiency (%)   9.151790   9.355109   8.871294  Efficiency (%)   9.151790   \n",
       "2    JSC (mA/cm2)  18.686320  17.791890  16.817960         ISC (A)   0.001207   \n",
       "3         VOC (V)   0.940674   0.974644   0.961021         VOC (V)   0.940674   \n",
       "4              FF  52.064650  53.948680  54.888460              FF  52.064650   \n",
       "\n",
       "         2.1        3.1  \n",
       "0   0.064600   0.064600  \n",
       "1   9.355109   8.871294  \n",
       "2   0.001149   0.001086  \n",
       "3   0.974644   0.961021  \n",
       "4  53.948680  54.888460  "
      ]
     },
     "execution_count": 4,
     "metadata": {},
     "output_type": "execute_result"
    }
   ],
   "source": [
    "header = ['Pixel','1','2','3','Pixel.1','1.1','2.1','3.1']\n",
    "data.columns = header\n",
    "data.head()"
   ]
  },
  {
   "cell_type": "code",
   "execution_count": 5,
   "id": "d71e5c00",
   "metadata": {},
   "outputs": [
    {
     "data": {
      "text/html": [
       "<div>\n",
       "<style scoped>\n",
       "    .dataframe tbody tr th:only-of-type {\n",
       "        vertical-align: middle;\n",
       "    }\n",
       "\n",
       "    .dataframe tbody tr th {\n",
       "        vertical-align: top;\n",
       "    }\n",
       "\n",
       "    .dataframe thead th {\n",
       "        text-align: right;\n",
       "    }\n",
       "</style>\n",
       "<table border=\"1\" class=\"dataframe\">\n",
       "  <thead>\n",
       "    <tr style=\"text-align: right;\">\n",
       "      <th></th>\n",
       "      <th>1</th>\n",
       "      <th>2</th>\n",
       "      <th>3</th>\n",
       "    </tr>\n",
       "  </thead>\n",
       "  <tbody>\n",
       "    <tr>\n",
       "      <th>-0.50</th>\n",
       "      <td>-19.78285</td>\n",
       "      <td>-18.60034</td>\n",
       "      <td>-17.54935</td>\n",
       "    </tr>\n",
       "    <tr>\n",
       "      <th>-0.45</th>\n",
       "      <td>-19.42376</td>\n",
       "      <td>-18.33774</td>\n",
       "      <td>-17.32498</td>\n",
       "    </tr>\n",
       "    <tr>\n",
       "      <th>-0.40</th>\n",
       "      <td>-19.29082</td>\n",
       "      <td>-18.22576</td>\n",
       "      <td>-17.22680</td>\n",
       "    </tr>\n",
       "    <tr>\n",
       "      <th>-0.35</th>\n",
       "      <td>-19.18125</td>\n",
       "      <td>-18.17005</td>\n",
       "      <td>-17.16703</td>\n",
       "    </tr>\n",
       "    <tr>\n",
       "      <th>-0.30</th>\n",
       "      <td>-19.10375</td>\n",
       "      <td>-18.10113</td>\n",
       "      <td>-17.10601</td>\n",
       "    </tr>\n",
       "  </tbody>\n",
       "</table>\n",
       "</div>"
      ],
      "text/plain": [
       "              1         2         3\n",
       "-0.50 -19.78285 -18.60034 -17.54935\n",
       "-0.45 -19.42376 -18.33774 -17.32498\n",
       "-0.40 -19.29082 -18.22576 -17.22680\n",
       "-0.35 -19.18125 -18.17005 -17.16703\n",
       "-0.30 -19.10375 -18.10113 -17.10601"
      ]
     },
     "execution_count": 5,
     "metadata": {},
     "output_type": "execute_result"
    }
   ],
   "source": [
    "JV = data[['Pixel','1','2','3']][10:]\n",
    "JV.index = np.around(np.arange(float(JV.Pixel[10]),\n",
    "                     float(JV.Pixel[len(JV)+9]),\n",
    "                     float(JV.Pixel[11])-float(JV.Pixel[10])), decimals=2)\n",
    "JV = JV.drop('Pixel', axis=1)\n",
    "JV.head()"
   ]
  },
  {
   "cell_type": "code",
   "execution_count": 6,
   "id": "32327801",
   "metadata": {},
   "outputs": [
    {
     "data": {
      "text/plain": [
       "-18.68632"
      ]
     },
     "execution_count": 6,
     "metadata": {},
     "output_type": "execute_result"
    }
   ],
   "source": [
    "JV['1'][0]"
   ]
  },
  {
   "cell_type": "code",
   "execution_count": 7,
   "id": "f859c142",
   "metadata": {},
   "outputs": [
    {
     "data": {
      "image/png": "[encoded data removed]",
      "text/plain": [
       "<Figure size 504x360 with 1 Axes>"
      ]
     },
     "metadata": {
      "needs_background": "light"
     },
     "output_type": "display_data"
    }
   ],
   "source": [
    "plt.figure(figsize=(7,5))\n",
    "plt.plot(JV)\n",
    "plt.xlabel('Voltage (V)', fontsize=15)\n",
    "plt.xticks(fontsize=12)\n",
    "plt.ylabel('Current Density (mA/cm2)', fontsize=15)\n",
    "plt.yticks(fontsize=12)\n",
    "plt.show()"
   ]
  },
  {
   "cell_type": "code",
   "execution_count": 8,
   "id": "acf89714",
   "metadata": {},
   "outputs": [
    {
     "data": {
      "image/png": "[encoded data removed]",
      "text/plain": [
       "<Figure size 504x360 with 1 Axes>"
      ]
     },
     "metadata": {
      "needs_background": "light"
     },
     "output_type": "display_data"
    }
   ],
   "source": [
    "plt.figure(figsize=(7,5))\n",
    "plt.plot(JV['1'], 'o')\n",
    "plt.xlabel('Voltage (V)', fontsize=15)\n",
    "plt.xticks(fontsize=12)\n",
    "plt.ylabel('Current Density (mA/cm2)', fontsize=15)\n",
    "plt.yticks(fontsize=12)\n",
    "plt.show()"
   ]
  },
  {
   "cell_type": "markdown",
   "id": "06f1660a",
   "metadata": {},
   "source": [
    "# Defining diode equaiton\n",
    "\n",
    "$$J(V) = J_{D} \\Bigg(exp\\Big(\\frac{A V}{n}\\Big) - 1\\Bigg) - J_{sc}$$"
   ]
  },
  {
   "cell_type": "code",
   "execution_count": 9,
   "id": "fc63dce4",
   "metadata": {},
   "outputs": [],
   "source": [
    "J = lambda V, Jsc, A, Jd, n : Jd*(np.exp(A*V/n)-1)-Jsc"
   ]
  },
  {
   "cell_type": "code",
   "execution_count": 10,
   "id": "0bfbf683",
   "metadata": {},
   "outputs": [
    {
     "data": {
      "text/html": [
       "<div>\n",
       "<style scoped>\n",
       "    .dataframe tbody tr th:only-of-type {\n",
       "        vertical-align: middle;\n",
       "    }\n",
       "\n",
       "    .dataframe tbody tr th {\n",
       "        vertical-align: top;\n",
       "    }\n",
       "\n",
       "    .dataframe thead th {\n",
       "        text-align: right;\n",
       "    }\n",
       "</style>\n",
       "<table border=\"1\" class=\"dataframe\">\n",
       "  <thead>\n",
       "    <tr style=\"text-align: right;\">\n",
       "      <th></th>\n",
       "      <th>fit1</th>\n",
       "      <th>Power</th>\n",
       "    </tr>\n",
       "  </thead>\n",
       "  <tbody>\n",
       "    <tr>\n",
       "      <th>-0.50</th>\n",
       "      <td>-20.581369</td>\n",
       "      <td>10.290685</td>\n",
       "    </tr>\n",
       "    <tr>\n",
       "      <th>-0.45</th>\n",
       "      <td>-20.558265</td>\n",
       "      <td>9.251219</td>\n",
       "    </tr>\n",
       "    <tr>\n",
       "      <th>-0.40</th>\n",
       "      <td>-20.530396</td>\n",
       "      <td>8.212158</td>\n",
       "    </tr>\n",
       "    <tr>\n",
       "      <th>-0.35</th>\n",
       "      <td>-20.496778</td>\n",
       "      <td>7.173872</td>\n",
       "    </tr>\n",
       "    <tr>\n",
       "      <th>-0.30</th>\n",
       "      <td>-20.456228</td>\n",
       "      <td>6.136868</td>\n",
       "    </tr>\n",
       "  </tbody>\n",
       "</table>\n",
       "</div>"
      ],
      "text/plain": [
       "            fit1      Power\n",
       "-0.50 -20.581369  10.290685\n",
       "-0.45 -20.558265   9.251219\n",
       "-0.40 -20.530396   8.212158\n",
       "-0.35 -20.496778   7.173872\n",
       "-0.30 -20.456228   6.136868"
      ]
     },
     "execution_count": 10,
     "metadata": {},
     "output_type": "execute_result"
    }
   ],
   "source": [
    "my_fit, params = opt.curve_fit(J, JV.index.to_list(), JV['1'].values)\n",
    "\n",
    "fit1 = pd.DataFrame({'fit1':J(JV.index, my_fit[0], my_fit[1], my_fit[2], my_fit[3])}, index=JV.index.to_list())\n",
    "fit1['Power'] = J(JV.index, my_fit[0], my_fit[1], my_fit[2], my_fit[3])*JV.index\n",
    "fit1.head()"
   ]
  },
  {
   "cell_type": "code",
   "execution_count": 11,
   "id": "446a8629",
   "metadata": {},
   "outputs": [
    {
     "data": {
      "text/plain": [
       "array([19.96283255,  1.69055817,  0.73056271,  0.45079554])"
      ]
     },
     "execution_count": 11,
     "metadata": {},
     "output_type": "execute_result"
    }
   ],
   "source": [
    "my_fit"
   ]
  },
  {
   "cell_type": "code",
   "execution_count": 12,
   "id": "75476c30",
   "metadata": {
    "scrolled": false
   },
   "outputs": [
    {
     "data": {
      "image/png": "[encoded data removed]",
      "text/plain": [
       "<Figure size 576x432 with 1 Axes>"
      ]
     },
     "metadata": {},
     "output_type": "display_data"
    }
   ],
   "source": [
    "plt.figure(figsize=(8,6)).set_facecolor('white')\n",
    "plt.plot(JV['1'], 'o', label='raw data')\n",
    "plt.plot(fit1['fit1'], color='darkred', label='fit')\n",
    "plt.xlabel('Voltage (V)', fontsize=15)\n",
    "plt.xticks(fontsize=12)\n",
    "plt.ylabel('Current Density (mA/cm2)', fontsize=15)\n",
    "plt.yticks(fontsize=12)\n",
    "plt.grid(axis='both')\n",
    "plt.legend(fontsize=12)\n",
    "plt.show()"
   ]
  },
  {
   "cell_type": "markdown",
   "id": "de9e19c1",
   "metadata": {},
   "source": [
    "## Plotting generated power (from fitted JV)\n",
    "\n",
    "#### We only care about the power that is negative, because this means that it is generated by the cell - so only plotting these points"
   ]
  },
  {
   "cell_type": "code",
   "execution_count": 13,
   "id": "e79ac4f7",
   "metadata": {},
   "outputs": [
    {
     "data": {
      "image/png": "[encoded data removed]",
      "text/plain": [
       "<Figure size 504x360 with 1 Axes>"
      ]
     },
     "metadata": {
      "needs_background": "light"
     },
     "output_type": "display_data"
    }
   ],
   "source": [
    "plt.figure(figsize=(7,5))\n",
    "plt.plot(fit1[fit1['Power']<0]['Power'], 'v', color='purple')\n",
    "plt.xlabel('Voltage (V)', fontsize=15)\n",
    "plt.xticks(fontsize=12)\n",
    "plt.ylabel('Power (mW/cm2)', fontsize=15)\n",
    "plt.yticks(fontsize=12)\n",
    "plt.show()"
   ]
  },
  {
   "cell_type": "code",
   "execution_count": 14,
   "id": "d228d961",
   "metadata": {},
   "outputs": [],
   "source": [
    "JSC = my_fit[0]\n",
    "VOC = my_fit[3]/my_fit[1]*np.log(JSC/my_fit[2]+1)"
   ]
  },
  {
   "cell_type": "code",
   "execution_count": 15,
   "id": "f1b4abe6",
   "metadata": {},
   "outputs": [],
   "source": [
    "power_x = np.arange(0,VOC,0.01)\n",
    "power = J(power_x, my_fit[0], my_fit[1], my_fit[2], my_fit[3])*power_x\n",
    "\n",
    "VMPP = power_x[power.argmin()]\n",
    "JMPP = np.abs(J(VMPP, my_fit[0], my_fit[1], my_fit[2], my_fit[3]))\n",
    "\n",
    "FF = (VMPP*JMPP)/(VOC*JSC)*100\n",
    "\n",
    "PCE = FF*JSC*VOC/100"
   ]
  },
  {
   "cell_type": "code",
   "execution_count": 16,
   "id": "0a48764c",
   "metadata": {},
   "outputs": [],
   "source": [
    "diff = np.abs(JV.index.to_list()-VOC)\n",
    "Vi = diff.argmin()-3\n",
    "Vf = diff.argmin()+3\n",
    "\n",
    "y = lambda x, m, b : m*x + b\n",
    "\n",
    "lin_fit, params = opt.curve_fit(y, \n",
    "                               JV.index[Vi:Vf+1].to_list(),\n",
    "                               JV['1'][JV.index[Vi:Vf+1].to_list()].values)\n",
    "\n",
    "RS = 1/lin_fit[0]*10**3\n",
    "\n",
    "RS_DF = pd.DataFrame({'Rs_fit':y(JV.index[Vi:Vf+1],lin_fit[0],lin_fit[1])},\n",
    "                     index=JV.index[Vi:Vf+1].to_list())"
   ]
  },
  {
   "cell_type": "code",
   "execution_count": 17,
   "id": "33dd543e",
   "metadata": {},
   "outputs": [],
   "source": [
    "diff = np.abs(JV.index.to_list())\n",
    "Vi = diff.argmin()-3\n",
    "Vf = diff.argmin()+3\n",
    "\n",
    "lin_fit, params = opt.curve_fit(y, \n",
    "                               JV.index[Vi:Vf+1].to_list(),\n",
    "                               JV['1'][JV.index[Vi:Vf+1].to_list()].values)\n",
    "\n",
    "RSH = 1/lin_fit[0]*10**3\n",
    "\n",
    "RSH_DF = pd.DataFrame({'Rsh_fit':y(JV.index[Vi:Vf+1],lin_fit[0],lin_fit[1])},\n",
    "                     index=JV.index[Vi:Vf+1].to_list())"
   ]
  },
  {
   "cell_type": "code",
   "execution_count": 18,
   "id": "7a954e08",
   "metadata": {},
   "outputs": [
    {
     "data": {
      "image/png": "[encoded data removed]",
      "text/plain": [
       "<Figure size 576x432 with 1 Axes>"
      ]
     },
     "metadata": {},
     "output_type": "display_data"
    }
   ],
   "source": [
    "plt.figure(figsize=(8,6)).set_facecolor('white')\n",
    "plt.plot(JV['1'], 'o', label='raw data')\n",
    "plt.plot(fit1['fit1'], color='darkred', label='J-V fit')\n",
    "plt.plot(RS_DF, color='orange', label='Rs fit')\n",
    "plt.plot(RSH_DF, color='violet', label='Rsh fit')\n",
    "plt.xlabel('Voltage (V)', fontsize=15)\n",
    "plt.xticks(fontsize=12)\n",
    "plt.ylabel('Current Density (mA/cm2)', fontsize=15)\n",
    "plt.yticks(fontsize=12)\n",
    "plt.grid(axis='both')\n",
    "plt.legend(fontsize=12)\n",
    "plt.show()"
   ]
  },
  {
   "cell_type": "markdown",
   "id": "56535fa9",
   "metadata": {},
   "source": [
    "# Iterating over the three pixels"
   ]
  },
  {
   "cell_type": "code",
   "execution_count": 19,
   "id": "cd1653e3",
   "metadata": {},
   "outputs": [
    {
     "data": {
      "text/html": [
       "<div>\n",
       "<style scoped>\n",
       "    .dataframe tbody tr th:only-of-type {\n",
       "        vertical-align: middle;\n",
       "    }\n",
       "\n",
       "    .dataframe tbody tr th {\n",
       "        vertical-align: top;\n",
       "    }\n",
       "\n",
       "    .dataframe thead th {\n",
       "        text-align: right;\n",
       "    }\n",
       "</style>\n",
       "<table border=\"1\" class=\"dataframe\">\n",
       "  <thead>\n",
       "    <tr style=\"text-align: right;\">\n",
       "      <th></th>\n",
       "      <th>1</th>\n",
       "      <th>2</th>\n",
       "      <th>3</th>\n",
       "    </tr>\n",
       "  </thead>\n",
       "  <tbody>\n",
       "    <tr>\n",
       "      <th>PCE (%)</th>\n",
       "      <td>8.272092</td>\n",
       "      <td>8.419759</td>\n",
       "      <td>7.866267</td>\n",
       "    </tr>\n",
       "    <tr>\n",
       "      <th>Jsc (mA/cm2)</th>\n",
       "      <td>19.962833</td>\n",
       "      <td>19.469934</td>\n",
       "      <td>18.553276</td>\n",
       "    </tr>\n",
       "    <tr>\n",
       "      <th>Voc (V)</th>\n",
       "      <td>0.891628</td>\n",
       "      <td>0.901772</td>\n",
       "      <td>0.888193</td>\n",
       "    </tr>\n",
       "    <tr>\n",
       "      <th>FF (%)</th>\n",
       "      <td>46.473916</td>\n",
       "      <td>47.955509</td>\n",
       "      <td>47.735425</td>\n",
       "    </tr>\n",
       "    <tr>\n",
       "      <th>Rsh (Ohm cm2)</th>\n",
       "      <td>623.405315</td>\n",
       "      <td>821.061400</td>\n",
       "      <td>871.633326</td>\n",
       "    </tr>\n",
       "    <tr>\n",
       "      <th>Rs (Ohm cm2)</th>\n",
       "      <td>12.611349</td>\n",
       "      <td>14.010240</td>\n",
       "      <td>13.581013</td>\n",
       "    </tr>\n",
       "  </tbody>\n",
       "</table>\n",
       "</div>"
      ],
      "text/plain": [
       "                        1           2           3\n",
       "PCE (%)          8.272092    8.419759    7.866267\n",
       "Jsc (mA/cm2)    19.962833   19.469934   18.553276\n",
       "Voc (V)          0.891628    0.901772    0.888193\n",
       "FF (%)          46.473916   47.955509   47.735425\n",
       "Rsh (Ohm cm2)  623.405315  821.061400  871.633326\n",
       "Rs (Ohm cm2)    12.611349   14.010240   13.581013"
      ]
     },
     "execution_count": 19,
     "metadata": {},
     "output_type": "execute_result"
    }
   ],
   "source": [
    "chars_index = ['PCE (%)','Jsc (mA/cm2)','Voc (V)','FF (%)','Rsh (Ohm cm2)','Rs (Ohm cm2)']\n",
    "chars = pd.DataFrame({'1':[0 for i in chars_index], '2':[0 for i in chars_index], '3':[0 for i in chars_index]}, \n",
    "                     index=chars_index)\n",
    "\n",
    "for col in JV.columns.to_list():\n",
    "    my_fit, params = opt.curve_fit(J, JV.index.to_list(), JV[col].values)\n",
    "    JSC = my_fit[0]\n",
    "    VOC = my_fit[3]/my_fit[1]*np.log(JSC/my_fit[2]+1)    \n",
    "    \n",
    "    power_x = np.arange(0,VOC,0.01)\n",
    "    power = J(power_x, my_fit[0], my_fit[1], my_fit[2], my_fit[3])*power_x\n",
    "    \n",
    "    VMPP = power_x[power.argmin()]\n",
    "    JMPP = np.abs(J(VMPP, my_fit[0], my_fit[1], my_fit[2], my_fit[3]))\n",
    "    \n",
    "    FF = (VMPP*JMPP)/(VOC*JSC)*100\n",
    "    PCE = FF*JSC*VOC/100\n",
    "    \n",
    "    diff = np.abs(JV.index.to_list())\n",
    "    Vi = diff.argmin()-3\n",
    "    Vf = diff.argmin()+3\n",
    "    lin_fit, params = opt.curve_fit(y, \n",
    "                                   JV.index[Vi:Vf+1].to_list(),\n",
    "                                   JV[col][JV.index[Vi:Vf+1].to_list()].values)\n",
    "    \n",
    "    RSH = 1/lin_fit[0]*10**3\n",
    "    \n",
    "    diff = np.abs(JV.index.to_list()-VOC)\n",
    "    Vi = diff.argmin()-3\n",
    "    Vf = diff.argmin()+3\n",
    "    lin_fit, params = opt.curve_fit(y, \n",
    "                                   JV.index[Vi:Vf+1].to_list(),\n",
    "                                   JV[col][JV.index[Vi:Vf+1].to_list()].values)\n",
    "    \n",
    "    RS = 1/lin_fit[0]*10**3\n",
    "    \n",
    "    chars[col] = [PCE,JSC,VOC,FF,RSH,RS]\n",
    "    \n",
    "\n",
    "chars"
   ]
  },
  {
   "cell_type": "code",
   "execution_count": 20,
   "id": "e32df7b0",
   "metadata": {},
   "outputs": [
    {
     "data": {
      "text/html": [
       "<div>\n",
       "<style scoped>\n",
       "    .dataframe tbody tr th:only-of-type {\n",
       "        vertical-align: middle;\n",
       "    }\n",
       "\n",
       "    .dataframe tbody tr th {\n",
       "        vertical-align: top;\n",
       "    }\n",
       "\n",
       "    .dataframe thead th {\n",
       "        text-align: right;\n",
       "    }\n",
       "</style>\n",
       "<table border=\"1\" class=\"dataframe\">\n",
       "  <thead>\n",
       "    <tr style=\"text-align: right;\">\n",
       "      <th></th>\n",
       "      <th>1</th>\n",
       "      <th>2</th>\n",
       "      <th>3</th>\n",
       "    </tr>\n",
       "  </thead>\n",
       "  <tbody>\n",
       "    <tr>\n",
       "      <th>1</th>\n",
       "      <td>9.151790</td>\n",
       "      <td>9.355109</td>\n",
       "      <td>8.871294</td>\n",
       "    </tr>\n",
       "    <tr>\n",
       "      <th>2</th>\n",
       "      <td>18.686320</td>\n",
       "      <td>17.791890</td>\n",
       "      <td>16.817960</td>\n",
       "    </tr>\n",
       "    <tr>\n",
       "      <th>3</th>\n",
       "      <td>0.940674</td>\n",
       "      <td>0.974644</td>\n",
       "      <td>0.961021</td>\n",
       "    </tr>\n",
       "    <tr>\n",
       "      <th>4</th>\n",
       "      <td>52.064650</td>\n",
       "      <td>53.948680</td>\n",
       "      <td>54.888460</td>\n",
       "    </tr>\n",
       "    <tr>\n",
       "      <th>5</th>\n",
       "      <td>863.174800</td>\n",
       "      <td>863.405500</td>\n",
       "      <td>1225.341000</td>\n",
       "    </tr>\n",
       "    <tr>\n",
       "      <th>7</th>\n",
       "      <td>12.880840</td>\n",
       "      <td>8.488877</td>\n",
       "      <td>9.662576</td>\n",
       "    </tr>\n",
       "  </tbody>\n",
       "</table>\n",
       "</div>"
      ],
      "text/plain": [
       "            1           2            3\n",
       "1    9.151790    9.355109     8.871294\n",
       "2   18.686320   17.791890    16.817960\n",
       "3    0.940674    0.974644     0.961021\n",
       "4   52.064650   53.948680    54.888460\n",
       "5  863.174800  863.405500  1225.341000\n",
       "7   12.880840    8.488877     9.662576"
      ]
     },
     "execution_count": 20,
     "metadata": {},
     "output_type": "execute_result"
    }
   ],
   "source": [
    "compare_DF = data[['1','2','3']][1:8].drop(6)\n",
    "compare_DF"
   ]
  },
  {
   "cell_type": "code",
   "execution_count": 21,
   "id": "7090f28e",
   "metadata": {},
   "outputs": [
    {
     "data": {
      "text/html": [
       "<div>\n",
       "<style scoped>\n",
       "    .dataframe tbody tr th:only-of-type {\n",
       "        vertical-align: middle;\n",
       "    }\n",
       "\n",
       "    .dataframe tbody tr th {\n",
       "        vertical-align: top;\n",
       "    }\n",
       "\n",
       "    .dataframe thead th {\n",
       "        text-align: right;\n",
       "    }\n",
       "</style>\n",
       "<table border=\"1\" class=\"dataframe\">\n",
       "  <thead>\n",
       "    <tr style=\"text-align: right;\">\n",
       "      <th></th>\n",
       "      <th>Pixel 1</th>\n",
       "      <th>Pixel 2</th>\n",
       "      <th>Piexl 3</th>\n",
       "    </tr>\n",
       "  </thead>\n",
       "  <tbody>\n",
       "    <tr>\n",
       "      <th>PCE</th>\n",
       "      <td>0.903877</td>\n",
       "      <td>0.900017</td>\n",
       "      <td>0.886710</td>\n",
       "    </tr>\n",
       "    <tr>\n",
       "      <th>Jsc</th>\n",
       "      <td>1.068313</td>\n",
       "      <td>1.094315</td>\n",
       "      <td>1.103182</td>\n",
       "    </tr>\n",
       "    <tr>\n",
       "      <th>Voc</th>\n",
       "      <td>0.947861</td>\n",
       "      <td>0.925232</td>\n",
       "      <td>0.924218</td>\n",
       "    </tr>\n",
       "    <tr>\n",
       "      <th>FF</th>\n",
       "      <td>0.892619</td>\n",
       "      <td>0.888910</td>\n",
       "      <td>0.869681</td>\n",
       "    </tr>\n",
       "    <tr>\n",
       "      <th>Rsh</th>\n",
       "      <td>0.722224</td>\n",
       "      <td>0.950957</td>\n",
       "      <td>0.711339</td>\n",
       "    </tr>\n",
       "    <tr>\n",
       "      <th>Rs</th>\n",
       "      <td>0.979078</td>\n",
       "      <td>1.650423</td>\n",
       "      <td>1.405527</td>\n",
       "    </tr>\n",
       "  </tbody>\n",
       "</table>\n",
       "</div>"
      ],
      "text/plain": [
       "      Pixel 1   Pixel 2   Piexl 3\n",
       "PCE  0.903877  0.900017  0.886710\n",
       "Jsc  1.068313  1.094315  1.103182\n",
       "Voc  0.947861  0.925232  0.924218\n",
       "FF   0.892619  0.888910  0.869681\n",
       "Rsh  0.722224  0.950957  0.711339\n",
       "Rs   0.979078  1.650423  1.405527"
      ]
     },
     "execution_count": 21,
     "metadata": {},
     "output_type": "execute_result"
    }
   ],
   "source": [
    "char_ratio = pd.DataFrame(chars.values/compare_DF.values, \n",
    "                         index=['PCE','Jsc','Voc','FF','Rsh','Rs'],\n",
    "                         columns=['Pixel 1', 'Pixel 2', 'Piexl 3'])\n",
    "\n",
    "char_ratio"
   ]
  },
  {
   "cell_type": "markdown",
   "id": "54c5aa64",
   "metadata": {},
   "source": [
    "# Trying a slightly different method to measure performance\n",
    "\n",
    "- Finding MPP directly from the P-V curve,\n",
    "\n",
    "- Fitting straight lines on either side of this point in the J-V,\n",
    "\n",
    "- Using these lines to estimate Jsc, Voc, and the resistances"
   ]
  },
  {
   "cell_type": "code",
   "execution_count": 102,
   "id": "d9339bea",
   "metadata": {},
   "outputs": [
    {
     "data": {
      "text/plain": [
       "22"
      ]
     },
     "execution_count": 102,
     "metadata": {},
     "output_type": "execute_result"
    }
   ],
   "source": [
    "power = JV['1']*JV.index\n",
    "\n",
    "power.argmin()"
   ]
  },
  {
   "cell_type": "code",
   "execution_count": 99,
   "id": "f405f63a",
   "metadata": {},
   "outputs": [
    {
     "data": {
      "text/plain": [
       "Float64Index([ -0.5, -0.45,  -0.4, -0.35,  -0.3, -0.25,  -0.2, -0.15,  -0.1,\n",
       "              -0.05,  -0.0,  0.05,   0.1,  0.15,   0.2,  0.25,   0.3,  0.35,\n",
       "                0.4,  0.45,   0.5,  0.55,   0.6],\n",
       "             dtype='float64')"
      ]
     },
     "execution_count": 99,
     "metadata": {},
     "output_type": "execute_result"
    }
   ],
   "source": [
    "JV.index[JV.index < JV.index[power.argmin()]]"
   ]
  },
  {
   "cell_type": "code",
   "execution_count": 95,
   "id": "dfd3def9",
   "metadata": {},
   "outputs": [],
   "source": [
    "Vi_l1 = JV.index[JV.index < 0][-2]\n",
    "Vf_l1 = JV.index[JV.index < JV.index[power.argmin()]][-4]\n",
    "lin1_fit, params = opt.curve_fit(y,\n",
    "                        JV[Vi_l1:Vf_l1].index,\n",
    "                        JV['1'][Vi_l1:Vf_l1].values)\n",
    "\n",
    "JSC = lin1_fit[1]\n",
    "RSH = 1/lin1_fit[0]*10**3\n",
    "\n",
    "line1 = pd.DataFrame({'line1':y(JV[Vi_l1:Vf_l1].index, lin1_fit[0], lin1_fit[1])}, index=JV[Vi_l1:Vf_l1].index)\n",
    "\n",
    "Vi_l2 = JV.index[JV.index > JV.index[power.argmin()]][4]\n",
    "Vf_l2 = JV['1'][JV['1']>0].index[2]\n",
    "lin2_fit, params = opt.curve_fit(y,\n",
    "                        JV[Vi_l2:Vf_l2].index,\n",
    "                        JV['1'][Vi_l2:Vf_l2].values)\n",
    "\n",
    "VOC = -lin2_fit[1]/lin2_fit[0]\n",
    "RS = 1/lin2_fit[0]*10**3\n",
    "\n",
    "line2 = pd.DataFrame({'line2':y(JV[Vi_l2:Vf_l2].index, lin2_fit[0], lin2_fit[1])}, index=JV[Vi_l2:Vf_l2].index)\n",
    "\n",
    "VMPP = JV.index[power.argmin()]\n",
    "JMPP = JV['1'][VMPP]\n",
    "\n",
    "FF = VMPP*JMPP/(VOC*JSC)*100\n",
    "PCE = FF*VOC*JSC/100"
   ]
  },
  {
   "cell_type": "code",
   "execution_count": null,
   "id": "d8724b35",
   "metadata": {},
   "outputs": [],
   "source": []
  },
  {
   "cell_type": "code",
   "execution_count": 110,
   "id": "4f2686b6",
   "metadata": {},
   "outputs": [
    {
     "data": {
      "image/png": "[encoded data removed]",
      "text/plain": [
       "<Figure size 576x432 with 1 Axes>"
      ]
     },
     "metadata": {},
     "output_type": "display_data"
    }
   ],
   "source": [
    "plt.figure(figsize=(8,6)).set_facecolor('white')\n",
    "plt.plot(JV['1'], 'o', label='raw data')\n",
    "plt.plot(VMPP, -JMPP, '*', color='violet', ms=12, label='MPP')\n",
    "plt.plot(line1, color='orange', label='line1')\n",
    "plt.plot(line2, color='red', label='line2')\n",
    "plt.xlabel('Voltage (V)', fontsize=15)\n",
    "plt.xticks(fontsize=12)\n",
    "plt.ylabel('Current Density (mA/cm2)', fontsize=15)\n",
    "plt.yticks(fontsize=12)\n",
    "plt.grid(axis='both')\n",
    "plt.legend(fontsize=12)\n",
    "plt.show()"
   ]
  },
  {
   "cell_type": "code",
   "execution_count": 111,
   "id": "5190c3ad",
   "metadata": {},
   "outputs": [
    {
     "data": {
      "text/html": [
       "<div>\n",
       "<style scoped>\n",
       "    .dataframe tbody tr th:only-of-type {\n",
       "        vertical-align: middle;\n",
       "    }\n",
       "\n",
       "    .dataframe tbody tr th {\n",
       "        vertical-align: top;\n",
       "    }\n",
       "\n",
       "    .dataframe thead th {\n",
       "        text-align: right;\n",
       "    }\n",
       "</style>\n",
       "<table border=\"1\" class=\"dataframe\">\n",
       "  <thead>\n",
       "    <tr style=\"text-align: right;\">\n",
       "      <th></th>\n",
       "      <th>1</th>\n",
       "      <th>2</th>\n",
       "      <th>3</th>\n",
       "    </tr>\n",
       "  </thead>\n",
       "  <tbody>\n",
       "    <tr>\n",
       "      <th>PCE (%)</th>\n",
       "      <td>9.151788</td>\n",
       "      <td>9.355112</td>\n",
       "      <td>8.871291</td>\n",
       "    </tr>\n",
       "    <tr>\n",
       "      <th>Jsc (mA/cm2)</th>\n",
       "      <td>18.686571</td>\n",
       "      <td>17.813364</td>\n",
       "      <td>16.821697</td>\n",
       "    </tr>\n",
       "    <tr>\n",
       "      <th>Voc (V)</th>\n",
       "      <td>0.928119</td>\n",
       "      <td>0.960824</td>\n",
       "      <td>0.951647</td>\n",
       "    </tr>\n",
       "    <tr>\n",
       "      <th>FF (%)</th>\n",
       "      <td>52.768222</td>\n",
       "      <td>54.658687</td>\n",
       "      <td>55.416744</td>\n",
       "    </tr>\n",
       "    <tr>\n",
       "      <th>Rsh (Ohm cm2)</th>\n",
       "      <td>385.231482</td>\n",
       "      <td>515.824065</td>\n",
       "      <td>567.075291</td>\n",
       "    </tr>\n",
       "    <tr>\n",
       "      <th>Rs (Ohm cm2)</th>\n",
       "      <td>10.160506</td>\n",
       "      <td>7.823565</td>\n",
       "      <td>7.742899</td>\n",
       "    </tr>\n",
       "  </tbody>\n",
       "</table>\n",
       "</div>"
      ],
      "text/plain": [
       "                        1           2           3\n",
       "PCE (%)          9.151788    9.355112    8.871291\n",
       "Jsc (mA/cm2)    18.686571   17.813364   16.821697\n",
       "Voc (V)          0.928119    0.960824    0.951647\n",
       "FF (%)          52.768222   54.658687   55.416744\n",
       "Rsh (Ohm cm2)  385.231482  515.824065  567.075291\n",
       "Rs (Ohm cm2)    10.160506    7.823565    7.742899"
      ]
     },
     "execution_count": 111,
     "metadata": {},
     "output_type": "execute_result"
    }
   ],
   "source": [
    "chars_index = ['PCE (%)','Jsc (mA/cm2)','Voc (V)','FF (%)','Rsh (Ohm cm2)','Rs (Ohm cm2)']\n",
    "chars_2 = pd.DataFrame({'1':[0 for i in chars_index], '2':[0 for i in chars_index], '3':[0 for i in chars_index]}, \n",
    "                     index=chars_index)\n",
    "\n",
    "for col in JV.columns.to_list():\n",
    "    power = JV[col]*JV.index\n",
    "    \n",
    "    Vi_l1 = JV.index[JV.index < 0][-2]\n",
    "    Vf_l1 = JV.index[JV.index < JV.index[power.argmin()]][-4]\n",
    "    lin1_fit, params = opt.curve_fit(y,\n",
    "                            JV[Vi_l1:Vf_l1].index,\n",
    "                            JV[col][Vi_l1:Vf_l1].values)\n",
    "    JSC = -lin1_fit[1]\n",
    "    RSH = 1/lin1_fit[0]*10**3\n",
    "    \n",
    "    Vi_l2 = JV.index[JV.index > JV.index[power.argmin()]][4]\n",
    "    Vf_l2 = JV[col][JV[col]>0].index[2]\n",
    "    lin2_fit, params = opt.curve_fit(y,\n",
    "                            JV[Vi_l2:Vf_l2].index,\n",
    "                            JV[col][Vi_l2:Vf_l2].values)\n",
    "    VOC = -lin2_fit[1]/lin2_fit[0]\n",
    "    RS = 1/lin2_fit[0]*10**3\n",
    "    \n",
    "    VMPP = JV.index[power.argmin()]\n",
    "    JMPP = -JV[col][VMPP]\n",
    "    \n",
    "    FF = VMPP*JMPP/(VOC*JSC)*100\n",
    "    PCE = FF*VOC*JSC/100\n",
    "    \n",
    "    chars_2[col] = [PCE,JSC,VOC,FF,RSH,RS]\n",
    "    \n",
    "chars_2"
   ]
  },
  {
   "cell_type": "code",
   "execution_count": 112,
   "id": "fd59053e",
   "metadata": {},
   "outputs": [
    {
     "data": {
      "text/html": [
       "<div>\n",
       "<style scoped>\n",
       "    .dataframe tbody tr th:only-of-type {\n",
       "        vertical-align: middle;\n",
       "    }\n",
       "\n",
       "    .dataframe tbody tr th {\n",
       "        vertical-align: top;\n",
       "    }\n",
       "\n",
       "    .dataframe thead th {\n",
       "        text-align: right;\n",
       "    }\n",
       "</style>\n",
       "<table border=\"1\" class=\"dataframe\">\n",
       "  <thead>\n",
       "    <tr style=\"text-align: right;\">\n",
       "      <th></th>\n",
       "      <th>Pixel 1</th>\n",
       "      <th>Pixel 2</th>\n",
       "      <th>Piexl 3</th>\n",
       "    </tr>\n",
       "  </thead>\n",
       "  <tbody>\n",
       "    <tr>\n",
       "      <th>PCE</th>\n",
       "      <td>1.000000</td>\n",
       "      <td>1.000000</td>\n",
       "      <td>1.000000</td>\n",
       "    </tr>\n",
       "    <tr>\n",
       "      <th>Jsc</th>\n",
       "      <td>1.000013</td>\n",
       "      <td>1.001207</td>\n",
       "      <td>1.000222</td>\n",
       "    </tr>\n",
       "    <tr>\n",
       "      <th>Voc</th>\n",
       "      <td>0.986653</td>\n",
       "      <td>0.985821</td>\n",
       "      <td>0.990247</td>\n",
       "    </tr>\n",
       "    <tr>\n",
       "      <th>FF</th>\n",
       "      <td>1.013513</td>\n",
       "      <td>1.013161</td>\n",
       "      <td>1.009625</td>\n",
       "    </tr>\n",
       "    <tr>\n",
       "      <th>Rsh</th>\n",
       "      <td>0.446296</td>\n",
       "      <td>0.597430</td>\n",
       "      <td>0.462790</td>\n",
       "    </tr>\n",
       "    <tr>\n",
       "      <th>Rs</th>\n",
       "      <td>0.788808</td>\n",
       "      <td>0.921625</td>\n",
       "      <td>0.801329</td>\n",
       "    </tr>\n",
       "  </tbody>\n",
       "</table>\n",
       "</div>"
      ],
      "text/plain": [
       "      Pixel 1   Pixel 2   Piexl 3\n",
       "PCE  1.000000  1.000000  1.000000\n",
       "Jsc  1.000013  1.001207  1.000222\n",
       "Voc  0.986653  0.985821  0.990247\n",
       "FF   1.013513  1.013161  1.009625\n",
       "Rsh  0.446296  0.597430  0.462790\n",
       "Rs   0.788808  0.921625  0.801329"
      ]
     },
     "execution_count": 112,
     "metadata": {},
     "output_type": "execute_result"
    }
   ],
   "source": [
    "char_ratio_2 = pd.DataFrame(chars_2.values/compare_DF.values, \n",
    "                         index=['PCE','Jsc','Voc','FF','Rsh','Rs'],\n",
    "                         columns=['Pixel 1', 'Pixel 2', 'Piexl 3'])\n",
    "\n",
    "char_ratio_2"
   ]
  },
  {
   "cell_type": "markdown",
   "id": "5b9bd0c5",
   "metadata": {},
   "source": [
    "## Using this simple method, I can predict most parameters to great accuracy - this must be the method that is used in the LabView code!\n",
    "\n",
    "### However, the resistances are far from perfect. I am severely underestimating both the Rsh and Rs resistances with this method alone. "
   ]
  },
  {
   "cell_type": "code",
   "execution_count": null,
   "id": "ca1d91db",
   "metadata": {},
   "outputs": [],
   "source": []
  }
 ],
 "metadata": {
  "kernelspec": {
   "display_name": "Python 3 (ipykernel)",
   "language": "python",
   "name": "python3"
  },
  "language_info": {
   "codemirror_mode": {
    "name": "ipython",
    "version": 3
   },
   "file_extension": ".py",
   "mimetype": "text/x-python",
   "name": "python",
   "nbconvert_exporter": "python",
   "pygments_lexer": "ipython3",
   "version": "3.8.3"
  }
 },
 "nbformat": 4,
 "nbformat_minor": 5
}
